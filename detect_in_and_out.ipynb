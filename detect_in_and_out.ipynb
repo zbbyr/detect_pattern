{
 "cells": [
  {
   "cell_type": "code",
   "execution_count": 32,
   "metadata": {
    "collapsed": false
   },
   "outputs": [],
   "source": [
    "import pandas as pd\n",
    "import xlrd"
   ]
  },
  {
   "cell_type": "code",
   "execution_count": 92,
   "metadata": {
    "collapsed": true
   },
   "outputs": [],
   "source": [
    "excel = xlrd.open_workbook('./in_and_out_origin.xls')"
   ]
  },
  {
   "cell_type": "code",
   "execution_count": 93,
   "metadata": {
    "collapsed": false
   },
   "outputs": [],
   "source": [
    "excel_df = []\n",
    "for idx, sheet in enumerate(excel.sheets()):\n",
    "    df = pd.DataFrame()\n",
    "    for n in range(sheet.ncols):\n",
    "        df[sheet.col_values(n)[0]] = sheet.col_values(n)[1:]\n",
    "    excel_df.append(df)"
   ]
  },
  {
   "cell_type": "code",
   "execution_count": 94,
   "metadata": {
    "collapsed": false
   },
   "outputs": [],
   "source": [
    "come_in_df = excel_df[0]\n",
    "go_out_df = excel_df[1]\n",
    "in_school_df = excel_df[2]\n",
    "out_school_df = excel_df[3]"
   ]
  },
  {
   "cell_type": "markdown",
   "metadata": {},
   "source": [
    "+ 连续出现-120怎么解决\n",
    "+ 多长时间窗判断模式\n",
    "+ 如何设置阈值\n",
    "+ 考虑进门时离天线的距离\n",
    "+ -120重新赋值"
   ]
  },
  {
   "cell_type": "markdown",
   "metadata": {},
   "source": [
    "## come in "
   ]
  },
  {
   "cell_type": "code",
   "execution_count": 63,
   "metadata": {
    "collapsed": false
   },
   "outputs": [
    {
     "data": {
      "text/html": [
       "<div>\n",
       "<table border=\"1\" class=\"dataframe\">\n",
       "  <thead>\n",
       "    <tr style=\"text-align: right;\">\n",
       "      <th></th>\n",
       "      <th>手表编号</th>\n",
       "      <th>接收时间</th>\n",
       "      <th>校内天线信号强度</th>\n",
       "      <th>校外天线信号强度</th>\n",
       "      <th>信号强度差值</th>\n",
       "    </tr>\n",
       "  </thead>\n",
       "  <tbody>\n",
       "    <tr>\n",
       "      <th>0</th>\n",
       "      <td>1.0</td>\n",
       "      <td>2017-05-04 15:58:04</td>\n",
       "      <td>-120.0</td>\n",
       "      <td>-88.0</td>\n",
       "      <td>-32.0</td>\n",
       "    </tr>\n",
       "    <tr>\n",
       "      <th>1</th>\n",
       "      <td>1.0</td>\n",
       "      <td>2017-05-04 15:58:08</td>\n",
       "      <td>-120.0</td>\n",
       "      <td>-87.0</td>\n",
       "      <td>-33.0</td>\n",
       "    </tr>\n",
       "    <tr>\n",
       "      <th>2</th>\n",
       "      <td>1.0</td>\n",
       "      <td>2017-05-04 15:58:10</td>\n",
       "      <td>-120.0</td>\n",
       "      <td>-79.0</td>\n",
       "      <td>-41.0</td>\n",
       "    </tr>\n",
       "    <tr>\n",
       "      <th>3</th>\n",
       "      <td>1.0</td>\n",
       "      <td>2017-05-04 15:58:12</td>\n",
       "      <td>-120.0</td>\n",
       "      <td>-79.0</td>\n",
       "      <td>-41.0</td>\n",
       "    </tr>\n",
       "    <tr>\n",
       "      <th>4</th>\n",
       "      <td>1.0</td>\n",
       "      <td>2017-05-04 15:58:13</td>\n",
       "      <td>-120.0</td>\n",
       "      <td>-71.0</td>\n",
       "      <td>-49.0</td>\n",
       "    </tr>\n",
       "    <tr>\n",
       "      <th>5</th>\n",
       "      <td>1.0</td>\n",
       "      <td>2017-05-04 15:58:14</td>\n",
       "      <td>-120.0</td>\n",
       "      <td>-75.0</td>\n",
       "      <td>-45.0</td>\n",
       "    </tr>\n",
       "    <tr>\n",
       "      <th>6</th>\n",
       "      <td>1.0</td>\n",
       "      <td>2017-05-04 15:58:16</td>\n",
       "      <td>-87.0</td>\n",
       "      <td>-78.0</td>\n",
       "      <td>-9.0</td>\n",
       "    </tr>\n",
       "    <tr>\n",
       "      <th>7</th>\n",
       "      <td>1.0</td>\n",
       "      <td>2017-05-04 15:58:17</td>\n",
       "      <td>-120.0</td>\n",
       "      <td>-75.0</td>\n",
       "      <td>-45.0</td>\n",
       "    </tr>\n",
       "    <tr>\n",
       "      <th>8</th>\n",
       "      <td>1.0</td>\n",
       "      <td>2017-05-04 15:58:18</td>\n",
       "      <td>-89.0</td>\n",
       "      <td>-76.0</td>\n",
       "      <td>-13.0</td>\n",
       "    </tr>\n",
       "    <tr>\n",
       "      <th>9</th>\n",
       "      <td>1.0</td>\n",
       "      <td>2017-05-04 15:58:19</td>\n",
       "      <td>-82.0</td>\n",
       "      <td>-83.0</td>\n",
       "      <td>1.0</td>\n",
       "    </tr>\n",
       "    <tr>\n",
       "      <th>10</th>\n",
       "      <td>1.0</td>\n",
       "      <td>2017-05-04 15:58:20</td>\n",
       "      <td>-80.0</td>\n",
       "      <td>-76.0</td>\n",
       "      <td>-4.0</td>\n",
       "    </tr>\n",
       "    <tr>\n",
       "      <th>11</th>\n",
       "      <td>1.0</td>\n",
       "      <td>2017-05-04 15:58:21</td>\n",
       "      <td>-87.0</td>\n",
       "      <td>-120.0</td>\n",
       "      <td>33.0</td>\n",
       "    </tr>\n",
       "    <tr>\n",
       "      <th>12</th>\n",
       "      <td>1.0</td>\n",
       "      <td>2017-05-04 15:58:22</td>\n",
       "      <td>-85.0</td>\n",
       "      <td>-79.0</td>\n",
       "      <td>-6.0</td>\n",
       "    </tr>\n",
       "    <tr>\n",
       "      <th>13</th>\n",
       "      <td>1.0</td>\n",
       "      <td>2017-05-04 15:58:23</td>\n",
       "      <td>-120.0</td>\n",
       "      <td>-83.0</td>\n",
       "      <td>-37.0</td>\n",
       "    </tr>\n",
       "    <tr>\n",
       "      <th>14</th>\n",
       "      <td>1.0</td>\n",
       "      <td>2017-05-04 15:58:24</td>\n",
       "      <td>-120.0</td>\n",
       "      <td>-73.0</td>\n",
       "      <td>-47.0</td>\n",
       "    </tr>\n",
       "    <tr>\n",
       "      <th>15</th>\n",
       "      <td>1.0</td>\n",
       "      <td>2017-05-04 15:58:25</td>\n",
       "      <td>-120.0</td>\n",
       "      <td>-81.0</td>\n",
       "      <td>-39.0</td>\n",
       "    </tr>\n",
       "    <tr>\n",
       "      <th>16</th>\n",
       "      <td>1.0</td>\n",
       "      <td>2017-05-04 15:58:27</td>\n",
       "      <td>-77.0</td>\n",
       "      <td>-68.0</td>\n",
       "      <td>-9.0</td>\n",
       "    </tr>\n",
       "    <tr>\n",
       "      <th>17</th>\n",
       "      <td>1.0</td>\n",
       "      <td>2017-05-04 15:58:28</td>\n",
       "      <td>-77.0</td>\n",
       "      <td>-63.0</td>\n",
       "      <td>-14.0</td>\n",
       "    </tr>\n",
       "    <tr>\n",
       "      <th>18</th>\n",
       "      <td>1.0</td>\n",
       "      <td>2017-05-04 15:58:29</td>\n",
       "      <td>-120.0</td>\n",
       "      <td>-68.0</td>\n",
       "      <td>-52.0</td>\n",
       "    </tr>\n",
       "    <tr>\n",
       "      <th>19</th>\n",
       "      <td>1.0</td>\n",
       "      <td>2017-05-04 15:58:30</td>\n",
       "      <td>-120.0</td>\n",
       "      <td>-63.0</td>\n",
       "      <td>-57.0</td>\n",
       "    </tr>\n",
       "    <tr>\n",
       "      <th>20</th>\n",
       "      <td>1.0</td>\n",
       "      <td>2017-05-04 15:58:31</td>\n",
       "      <td>-120.0</td>\n",
       "      <td>-64.0</td>\n",
       "      <td>-56.0</td>\n",
       "    </tr>\n",
       "    <tr>\n",
       "      <th>21</th>\n",
       "      <td>1.0</td>\n",
       "      <td>2017-05-04 15:58:32</td>\n",
       "      <td>-79.0</td>\n",
       "      <td>-120.0</td>\n",
       "      <td>41.0</td>\n",
       "    </tr>\n",
       "    <tr>\n",
       "      <th>22</th>\n",
       "      <td>1.0</td>\n",
       "      <td>2017-05-04 15:58:33</td>\n",
       "      <td>-79.0</td>\n",
       "      <td>-120.0</td>\n",
       "      <td>41.0</td>\n",
       "    </tr>\n",
       "    <tr>\n",
       "      <th>23</th>\n",
       "      <td>1.0</td>\n",
       "      <td>2017-05-04 15:58:34</td>\n",
       "      <td>-77.0</td>\n",
       "      <td>-60.0</td>\n",
       "      <td>-17.0</td>\n",
       "    </tr>\n",
       "    <tr>\n",
       "      <th>24</th>\n",
       "      <td>1.0</td>\n",
       "      <td>2017-05-04 15:58:35</td>\n",
       "      <td>-120.0</td>\n",
       "      <td>-63.0</td>\n",
       "      <td>-57.0</td>\n",
       "    </tr>\n",
       "  </tbody>\n",
       "</table>\n",
       "</div>"
      ],
      "text/plain": [
       "    手表编号                 接收时间  校内天线信号强度  校外天线信号强度  信号强度差值\n",
       "0    1.0  2017-05-04 15:58:04    -120.0     -88.0   -32.0\n",
       "1    1.0  2017-05-04 15:58:08    -120.0     -87.0   -33.0\n",
       "2    1.0  2017-05-04 15:58:10    -120.0     -79.0   -41.0\n",
       "3    1.0  2017-05-04 15:58:12    -120.0     -79.0   -41.0\n",
       "4    1.0  2017-05-04 15:58:13    -120.0     -71.0   -49.0\n",
       "5    1.0  2017-05-04 15:58:14    -120.0     -75.0   -45.0\n",
       "6    1.0  2017-05-04 15:58:16     -87.0     -78.0    -9.0\n",
       "7    1.0  2017-05-04 15:58:17    -120.0     -75.0   -45.0\n",
       "8    1.0  2017-05-04 15:58:18     -89.0     -76.0   -13.0\n",
       "9    1.0  2017-05-04 15:58:19     -82.0     -83.0     1.0\n",
       "10   1.0  2017-05-04 15:58:20     -80.0     -76.0    -4.0\n",
       "11   1.0  2017-05-04 15:58:21     -87.0    -120.0    33.0\n",
       "12   1.0  2017-05-04 15:58:22     -85.0     -79.0    -6.0\n",
       "13   1.0  2017-05-04 15:58:23    -120.0     -83.0   -37.0\n",
       "14   1.0  2017-05-04 15:58:24    -120.0     -73.0   -47.0\n",
       "15   1.0  2017-05-04 15:58:25    -120.0     -81.0   -39.0\n",
       "16   1.0  2017-05-04 15:58:27     -77.0     -68.0    -9.0\n",
       "17   1.0  2017-05-04 15:58:28     -77.0     -63.0   -14.0\n",
       "18   1.0  2017-05-04 15:58:29    -120.0     -68.0   -52.0\n",
       "19   1.0  2017-05-04 15:58:30    -120.0     -63.0   -57.0\n",
       "20   1.0  2017-05-04 15:58:31    -120.0     -64.0   -56.0\n",
       "21   1.0  2017-05-04 15:58:32     -79.0    -120.0    41.0\n",
       "22   1.0  2017-05-04 15:58:33     -79.0    -120.0    41.0\n",
       "23   1.0  2017-05-04 15:58:34     -77.0     -60.0   -17.0\n",
       "24   1.0  2017-05-04 15:58:35    -120.0     -63.0   -57.0"
      ]
     },
     "execution_count": 63,
     "metadata": {},
     "output_type": "execute_result"
    }
   ],
   "source": [
    "come_in_df[0:25]"
   ]
  },
  {
   "cell_type": "code",
   "execution_count": 74,
   "metadata": {
    "collapsed": false
   },
   "outputs": [],
   "source": [
    "### 重新赋值-120\n",
    "invalid_index = come_in_df[come_in_df['校内天线信号强度']==-120].index.values"
   ]
  },
  {
   "cell_type": "code",
   "execution_count": 99,
   "metadata": {
    "collapsed": true
   },
   "outputs": [],
   "source": [
    "def handle_invalid(df):\n",
    "    df_copy = df.copy()\n",
    "    invalid_index = df_copy[df_copy['校内天线信号强度']==-120].index.values\n",
    "    for idx in invalid_index[invalid_index>0]:\n",
    "        df_copy.loc[idx, '校内天线信号强度'] = df_copy.loc[idx-1, '校内天线信号强度']\n",
    "    invalid_index = df_copy[df_copy['校外天线信号强度']==-120].index.values\n",
    "    for idx in invalid_index[invalid_index>0]:\n",
    "        df_copy.loc[idx, '校外天线信号强度'] = df_copy.loc[idx-1, '校外天线信号强度']    \n",
    "    return df_copy"
   ]
  },
  {
   "cell_type": "code",
   "execution_count": 102,
   "metadata": {
    "collapsed": true
   },
   "outputs": [],
   "source": [
    "valid_df = handle_invalid(come_in_df)"
   ]
  },
  {
   "cell_type": "code",
   "execution_count": 103,
   "metadata": {
    "collapsed": true
   },
   "outputs": [],
   "source": [
    "valid_df['新信号强度差值'] = valid_df['校内天线信号强度'] - valid_df['校外天线信号强度']"
   ]
  },
  {
   "cell_type": "code",
   "execution_count": 118,
   "metadata": {
    "collapsed": false
   },
   "outputs": [],
   "source": [
    "valid_df['接收时间'] = valid_df['接收时间'].apply(lambda x: datetime.datetime.strptime(str(x), '%Y-%m-%d %H:%M:%S'))"
   ]
  },
  {
   "cell_type": "code",
   "execution_count": 120,
   "metadata": {
    "collapsed": false
   },
   "outputs": [
    {
     "data": {
      "text/plain": [
       "手表编号               float64\n",
       "接收时间        datetime64[ns]\n",
       "校内天线信号强度           float64\n",
       "校外天线信号强度           float64\n",
       "信号强度差值             float64\n",
       "新信号强度差值            float64\n",
       "dtype: object"
      ]
     },
     "execution_count": 120,
     "metadata": {},
     "output_type": "execute_result"
    }
   ],
   "source": [
    "valid_df"
   ]
  },
  {
   "cell_type": "code",
   "execution_count": 121,
   "metadata": {
    "collapsed": true
   },
   "outputs": [],
   "source": [
    "import matplotlib.pyplot as plt\n",
    "import datetime"
   ]
  },
  {
   "cell_type": "code",
   "execution_count": 131,
   "metadata": {
    "collapsed": false
   },
   "outputs": [
    {
     "data": {
      "text/plain": [
       "30    1.0\n",
       "31    1.0\n",
       "32    1.0\n",
       "33    1.0\n",
       "34    1.0\n",
       "35    1.0\n",
       "36    1.0\n",
       "37    1.0\n",
       "38    1.0\n",
       "39    1.0\n",
       "40    1.0\n",
       "41    1.0\n",
       "42    1.0\n",
       "43    1.0\n",
       "44    1.0\n",
       "45    1.0\n",
       "46    1.0\n",
       "47    2.0\n",
       "48    2.0\n",
       "49    2.0\n",
       "50    2.0\n",
       "51    2.0\n",
       "52    2.0\n",
       "53    2.0\n",
       "54    2.0\n",
       "55    2.0\n",
       "56    2.0\n",
       "57    2.0\n",
       "58    2.0\n",
       "59    2.0\n",
       "     ... \n",
       "70    2.0\n",
       "71    2.0\n",
       "72    2.0\n",
       "73    2.0\n",
       "74    2.0\n",
       "75    2.0\n",
       "76    2.0\n",
       "77    2.0\n",
       "78    2.0\n",
       "79    2.0\n",
       "80    2.0\n",
       "81    2.0\n",
       "82    2.0\n",
       "83    2.0\n",
       "84    2.0\n",
       "85    2.0\n",
       "86    2.0\n",
       "87    2.0\n",
       "88    2.0\n",
       "89    2.0\n",
       "90    2.0\n",
       "91    2.0\n",
       "92    2.0\n",
       "93    2.0\n",
       "94    2.0\n",
       "95    2.0\n",
       "96    2.0\n",
       "97    3.0\n",
       "98    3.0\n",
       "99    3.0\n",
       "Name: 手表编号, dtype: float64"
      ]
     },
     "execution_count": 131,
     "metadata": {},
     "output_type": "execute_result"
    }
   ],
   "source": [
    "valid_df['手表编号'][30:100]"
   ]
  },
  {
   "cell_type": "code",
   "execution_count": 134,
   "metadata": {
    "collapsed": false
   },
   "outputs": [
    {
     "data": {
      "image/png": "[encoded data removed]",
      "text/plain": [
       "<matplotlib.figure.Figure at 0x7fb0cf0b51d0>"
      ]
     },
     "metadata": {},
     "output_type": "display_data"
    }
   ],
   "source": [
    "plt.plot(valid_df['接收时间'][47:96], valid_df['新信号强度差值'][47:96])\n",
    "plt.show()"
   ]
  },
  {
   "cell_type": "code",
   "execution_count": 126,
   "metadata": {
    "collapsed": false
   },
   "outputs": [
    {
     "ename": "PlotlyError",
     "evalue": "Sign in failed.",
     "output_type": "error",
     "traceback": [
      "\u001b[0;31m---------------------------------------------------------------------------\u001b[0m",
      "\u001b[0;31mPlotlyRequestError\u001b[0m                        Traceback (most recent call last)",
      "\u001b[0;32m/home/zbyongdata/anaconda3/lib/python3.6/site-packages/plotly/plotly/plotly.py\u001b[0m in \u001b[0;36msign_in\u001b[0;34m(username, api_key, **kwargs)\u001b[0m\n\u001b[1;32m     58\u001b[0m         \u001b[0;31m# with the given, username, api_key, and plotly_api_domain.\u001b[0m\u001b[0;34m\u001b[0m\u001b[0;34m\u001b[0m\u001b[0m\n\u001b[0;32m---> 59\u001b[0;31m         \u001b[0mv2\u001b[0m\u001b[0;34m.\u001b[0m\u001b[0musers\u001b[0m\u001b[0;34m.\u001b[0m\u001b[0mcurrent\u001b[0m\u001b[0;34m(\u001b[0m\u001b[0;34m)\u001b[0m\u001b[0;34m\u001b[0m\u001b[0m\n\u001b[0m\u001b[1;32m     60\u001b[0m     \u001b[0;32mexcept\u001b[0m \u001b[0mexceptions\u001b[0m\u001b[0;34m.\u001b[0m\u001b[0mPlotlyRequestError\u001b[0m\u001b[0;34m:\u001b[0m\u001b[0;34m\u001b[0m\u001b[0m\n",
      "\u001b[0;32m/home/zbyongdata/anaconda3/lib/python3.6/site-packages/plotly/api/v2/users.py\u001b[0m in \u001b[0;36mcurrent\u001b[0;34m()\u001b[0m\n\u001b[1;32m     16\u001b[0m     \u001b[0murl\u001b[0m \u001b[0;34m=\u001b[0m \u001b[0mbuild_url\u001b[0m\u001b[0;34m(\u001b[0m\u001b[0mRESOURCE\u001b[0m\u001b[0;34m,\u001b[0m \u001b[0mroute\u001b[0m\u001b[0;34m=\u001b[0m\u001b[0;34m'current'\u001b[0m\u001b[0;34m)\u001b[0m\u001b[0;34m\u001b[0m\u001b[0m\n\u001b[0;32m---> 17\u001b[0;31m     \u001b[0;32mreturn\u001b[0m \u001b[0mrequest\u001b[0m\u001b[0;34m(\u001b[0m\u001b[0;34m'get'\u001b[0m\u001b[0;34m,\u001b[0m \u001b[0murl\u001b[0m\u001b[0;34m)\u001b[0m\u001b[0;34m\u001b[0m\u001b[0m\n\u001b[0m",
      "\u001b[0;32m/home/zbyongdata/anaconda3/lib/python3.6/site-packages/plotly/api/v2/utils.py\u001b[0m in \u001b[0;36mrequest\u001b[0;34m(method, url, **kwargs)\u001b[0m\n\u001b[1;32m    152\u001b[0m         \u001b[0;32mraise\u001b[0m \u001b[0mexceptions\u001b[0m\u001b[0;34m.\u001b[0m\u001b[0mPlotlyRequestError\u001b[0m\u001b[0;34m(\u001b[0m\u001b[0mmessage\u001b[0m\u001b[0;34m,\u001b[0m \u001b[0mstatus_code\u001b[0m\u001b[0;34m,\u001b[0m \u001b[0mcontent\u001b[0m\u001b[0;34m)\u001b[0m\u001b[0;34m\u001b[0m\u001b[0m\n\u001b[0;32m--> 153\u001b[0;31m     \u001b[0mvalidate_response\u001b[0m\u001b[0;34m(\u001b[0m\u001b[0mresponse\u001b[0m\u001b[0;34m)\u001b[0m\u001b[0;34m\u001b[0m\u001b[0m\n\u001b[0m\u001b[1;32m    154\u001b[0m     \u001b[0;32mreturn\u001b[0m \u001b[0mresponse\u001b[0m\u001b[0;34m\u001b[0m\u001b[0m\n",
      "\u001b[0;32m/home/zbyongdata/anaconda3/lib/python3.6/site-packages/plotly/api/v2/utils.py\u001b[0m in \u001b[0;36mvalidate_response\u001b[0;34m(response)\u001b[0m\n\u001b[1;32m     78\u001b[0m \u001b[0;34m\u001b[0m\u001b[0m\n\u001b[0;32m---> 79\u001b[0;31m     \u001b[0;32mraise\u001b[0m \u001b[0mexceptions\u001b[0m\u001b[0;34m.\u001b[0m\u001b[0mPlotlyRequestError\u001b[0m\u001b[0;34m(\u001b[0m\u001b[0mmessage\u001b[0m\u001b[0;34m,\u001b[0m \u001b[0mstatus_code\u001b[0m\u001b[0;34m,\u001b[0m \u001b[0mcontent\u001b[0m\u001b[0;34m)\u001b[0m\u001b[0;34m\u001b[0m\u001b[0m\n\u001b[0m\u001b[1;32m     80\u001b[0m \u001b[0;34m\u001b[0m\u001b[0m\n",
      "\u001b[0;31mPlotlyRequestError\u001b[0m: Bad API key",
      "\nDuring handling of the above exception, another exception occurred:\n",
      "\u001b[0;31mPlotlyError\u001b[0m                               Traceback (most recent call last)",
      "\u001b[0;32m<ipython-input-126-69fef3e92bd0>\u001b[0m in \u001b[0;36m<module>\u001b[0;34m()\u001b[0m\n\u001b[1;32m      1\u001b[0m \u001b[0;32mimport\u001b[0m \u001b[0mplotly\u001b[0m\u001b[0;34m.\u001b[0m\u001b[0mplotly\u001b[0m \u001b[0;32mas\u001b[0m \u001b[0mpy\u001b[0m\u001b[0;34m\u001b[0m\u001b[0m\n\u001b[1;32m      2\u001b[0m \u001b[0;32mfrom\u001b[0m \u001b[0mplotly\u001b[0m\u001b[0;34m.\u001b[0m\u001b[0mgraph_objs\u001b[0m \u001b[0;32mimport\u001b[0m \u001b[0;34m*\u001b[0m\u001b[0;34m\u001b[0m\u001b[0m\n\u001b[0;32m----> 3\u001b[0;31m \u001b[0mpy\u001b[0m\u001b[0;34m.\u001b[0m\u001b[0msign_in\u001b[0m\u001b[0;34m(\u001b[0m\u001b[0;34m'zbbyr'\u001b[0m\u001b[0;34m,\u001b[0m \u001b[0;34m'zb19900915*'\u001b[0m\u001b[0;34m)\u001b[0m\u001b[0;34m\u001b[0m\u001b[0m\n\u001b[0m\u001b[1;32m      4\u001b[0m trace1 = {\n\u001b[1;32m      5\u001b[0m   \u001b[0;34m\"x\"\u001b[0m\u001b[0;34m:\u001b[0m \u001b[0mvalid_df\u001b[0m\u001b[0;34m[\u001b[0m\u001b[0;34m'接收时间'\u001b[0m\u001b[0;34m]\u001b[0m\u001b[0;34m[\u001b[0m\u001b[0;36m0\u001b[0m\u001b[0;34m:\u001b[0m\u001b[0;36m45\u001b[0m\u001b[0;34m]\u001b[0m\u001b[0;34m,\u001b[0m\u001b[0;34m\u001b[0m\u001b[0m\n",
      "\u001b[0;32m/home/zbyongdata/anaconda3/lib/python3.6/site-packages/plotly/plotly/plotly.py\u001b[0m in \u001b[0;36msign_in\u001b[0;34m(username, api_key, **kwargs)\u001b[0m\n\u001b[1;32m     59\u001b[0m         \u001b[0mv2\u001b[0m\u001b[0;34m.\u001b[0m\u001b[0musers\u001b[0m\u001b[0;34m.\u001b[0m\u001b[0mcurrent\u001b[0m\u001b[0;34m(\u001b[0m\u001b[0;34m)\u001b[0m\u001b[0;34m\u001b[0m\u001b[0m\n\u001b[1;32m     60\u001b[0m     \u001b[0;32mexcept\u001b[0m \u001b[0mexceptions\u001b[0m\u001b[0;34m.\u001b[0m\u001b[0mPlotlyRequestError\u001b[0m\u001b[0;34m:\u001b[0m\u001b[0;34m\u001b[0m\u001b[0m\n\u001b[0;32m---> 61\u001b[0;31m         \u001b[0;32mraise\u001b[0m \u001b[0mexceptions\u001b[0m\u001b[0;34m.\u001b[0m\u001b[0mPlotlyError\u001b[0m\u001b[0;34m(\u001b[0m\u001b[0;34m'Sign in failed.'\u001b[0m\u001b[0;34m)\u001b[0m\u001b[0;34m\u001b[0m\u001b[0m\n\u001b[0m\u001b[1;32m     62\u001b[0m \u001b[0;34m\u001b[0m\u001b[0m\n\u001b[1;32m     63\u001b[0m \u001b[0mupdate_plot_options\u001b[0m \u001b[0;34m=\u001b[0m \u001b[0msession\u001b[0m\u001b[0;34m.\u001b[0m\u001b[0mupdate_session_plot_options\u001b[0m\u001b[0;34m\u001b[0m\u001b[0m\n",
      "\u001b[0;31mPlotlyError\u001b[0m: Sign in failed."
     ]
    }
   ],
   "source": [
    "import plotly.plotly as py\n",
    "from plotly.graph_objs import *\n",
    "py.sign_in('zbbyr', 'zb19900915*')\n",
    "trace1 = {\n",
    "  \"x\": valid_df['接收时间'][0:45],\n",
    "  \"y\": valid_df['新信号强度差值'][0:45], \n",
    "  \"type\": \"scatter\"\n",
    "}\n",
    "data = Data([trace1])\n",
    "layout = {\n",
    "  \"title\": \"HSBC Closing Stock Price PCT\", \n",
    "  \"xaxis\": {\n",
    "    \"title\": \"Date\", \n",
    "    \"titlefont\": {\n",
    "      \"color\": \"#7f7f7f\", \n",
    "      \"family\": \"Courier New, monospace\", \n",
    "      \"size\": 18\n",
    "    }\n",
    "  }, \n",
    "  \"yaxis\": {\n",
    "    \"title\": \"GBP\", \n",
    "    \"titlefont\": {\n",
    "      \"color\": \"#7f7f7f\", \n",
    "      \"family\": \"Courier New, monospace\", \n",
    "      \"size\": 18\n",
    "    }\n",
    "  }\n",
    "}\n",
    "fig = Figure(data=data, layout=layout)\n",
    "plot_url = py.plot(fig)"
   ]
  },
  {
   "cell_type": "code",
   "execution_count": null,
   "metadata": {
    "collapsed": true
   },
   "outputs": [],
   "source": []
  },
  {
   "cell_type": "code",
   "execution_count": null,
   "metadata": {
    "collapsed": true
   },
   "outputs": [],
   "source": []
  },
  {
   "cell_type": "code",
   "execution_count": null,
   "metadata": {
    "collapsed": true
   },
   "outputs": [],
   "source": []
  }
 ],
 "metadata": {
  "kernelspec": {
   "display_name": "Python 3",
   "language": "python",
   "name": "python3"
  },
  "language_info": {
   "codemirror_mode": {
    "name": "ipython",
    "version": 3
   },
   "file_extension": ".py",
   "mimetype": "text/x-python",
   "name": "python",
   "nbconvert_exporter": "python",
   "pygments_lexer": "ipython3",
   "version": "3.6.0"
  }
 },
 "nbformat": 4,
 "nbformat_minor": 2
}
