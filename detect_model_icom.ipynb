{
 "cells": [
  {
   "cell_type": "code",
   "execution_count": 1,
   "metadata": {
    "collapsed": false
   },
   "outputs": [],
   "source": [
    "import pandas as pd\n",
    "from math import ceil\n",
    "import numpy as np\n",
    "import os"
   ]
  },
  {
   "cell_type": "code",
   "execution_count": 2,
   "metadata": {
    "collapsed": true
   },
   "outputs": [],
   "source": [
    "data = pd.read_csv('detect_pattern.csv', dtype={'手表编号':int})"
   ]
  },
  {
   "cell_type": "code",
   "execution_count": 3,
   "metadata": {
    "collapsed": false
   },
   "outputs": [
    {
     "name": "stdout",
     "output_type": "stream",
     "text": [
      "开始判定模式\n"
     ]
    }
   ],
   "source": [
    "if len(data['手表编号'].unique()) == 0:\n",
    "    raise Exception(\"数据为空\")\n",
    "elif len(data['手表编号'].unique()) > 1:\n",
    "    raise Exception(\"存在多个设备的数据\")\n",
    "else:\n",
    "    print('开始判定模式')"
   ]
  },
  {
   "cell_type": "code",
   "execution_count": 4,
   "metadata": {
    "collapsed": true
   },
   "outputs": [],
   "source": [
    "def smoothingList(array):\n",
    "    length = len(array)\n",
    "    if length<9:\n",
    "        return array\n",
    "    somoothedArr = []\n",
    "    y4 = (5950*array[0] + 1960*array[1] - 140*array[2] - 840*array[3] - \\\n",
    "          630*array[4] + 0*array[5] + 560*array[6] + 560*array[7] - 490*array[8]) / 6930\n",
    "    y3 = (1960*array[0] + 2275*array[1] + 1960*array[2] + 1260*array[3] + \\\n",
    "          420*array[4] - 315*array[5] - 700*array[6] - 490*array[7] + 560*array[8]) / 6930\n",
    "    y2 = (-140*array[0] + 1960*array[1] + 2575*array[2] + 2160*array[3] + \\\n",
    "          1170*array[4] + 60*array[5] - 715*array[6] - 700*array[7] + 560*array[8]) / 6930\n",
    "    y1 = (-840*array[0] + 1260*array[1] + 2160*array[2] + 2175*array[3] + \\\n",
    "          1620*array[4] + 810*array[5] + 60*array[6] - 315*array[7] + 0*array[8]) / 6930\n",
    "    \n",
    "    y_4 = (5950*array[length-1] + 1960*array[length-2] - 140*array[length-3] - 840*array[length-4] - \\\n",
    "          630*array[length-5] + 0*array[length-6] + 560*array[length-7] + 560*array[length-8] - 490*array[length-9]) / 6930\n",
    "    y_3 = (1960*array[length-1] + 2275*array[length-2] + 1960*array[length-3] + 1260*array[length-4] + \\\n",
    "          420*array[length-5] - 315*array[length-6] - 700*array[length-7] - 490*array[length-8] + 560*array[length-9]) / 6930\n",
    "    y_2 = (-140*array[length-1] + 1960*array[length-2] + 2575*array[length-3] + 2160*array[length-4] + \\\n",
    "          1170*array[length-5] + 60*array[length-6] - 715*array[length-7] - 700*array[length-8] + 560*array[length-9]) / 6930\n",
    "    y_1 = (-840*array[length-1] + 1260*array[length-2] + 2160*array[length-3] + 2175*array[length-4] + \\\n",
    "          1620*array[length-5] + 810*array[length-6] + 60*array[length-7] - 315*array[length-8] + 0*array[length-9]) / 6930\n",
    "    somoothedArr.append(y4)\n",
    "    somoothedArr.append(y3)\n",
    "    somoothedArr.append(y2)\n",
    "    somoothedArr.append(y1)\n",
    "    for i in range(4, length-4):\n",
    "        y = (-630*array[i-4] + 420*array[i-3] + 1170*array[i-2] + 1620*array[i-1] + \\\n",
    "             1770*array[i] +1620*array[i+1] + 1170*array[i+2] + 420*array[i+3] - 630*array[i+4]) / 6930\n",
    "        somoothedArr.append(y)\n",
    "    somoothedArr.append(y_1)\n",
    "    somoothedArr.append(y_2)\n",
    "    somoothedArr.append(y_3)\n",
    "    somoothedArr.append(y_4)\n",
    "    return somoothedArr"
   ]
  },
  {
   "cell_type": "code",
   "execution_count": 5,
   "metadata": {
    "collapsed": true
   },
   "outputs": [],
   "source": [
    "### 对-120重新赋值\n",
    "def handle_invalid(df):\n",
    "    df_copy = df.copy()\n",
    "    invalid_index = df_copy[df_copy['校内天线信号强度']==-120].index.values\n",
    "    for idx in invalid_index[invalid_index>0]:\n",
    "        df_copy.loc[idx, '校内天线信号强度'] = df_copy.loc[idx-1, '校内天线信号强度']\n",
    "    invalid_index = df_copy[df_copy['校外天线信号强度']==-120].index.values\n",
    "    for idx in invalid_index[invalid_index>0]:\n",
    "        df_copy.loc[idx, '校外天线信号强度'] = df_copy.loc[idx-1, '校外天线信号强度']    \n",
    "    return df_copy"
   ]
  },
  {
   "cell_type": "code",
   "execution_count": 6,
   "metadata": {
    "collapsed": true
   },
   "outputs": [],
   "source": [
    "def prepare_df(df):\n",
    "    valid_df = handle_invalid(df)\n",
    "    # 平滑原始数据\n",
    "    valid_df['校内天线信号强度'] = smoothingList(df['校内天线信号强度'])\n",
    "    valid_df['校外天线信号强度'] = smoothingList(df['校外天线信号强度'])\n",
    "    valid_df['新信号强度差值'] = valid_df['校内天线信号强度'] - valid_df['校外天线信号强度']\n",
    "    df_count = valid_df['手表编号'].value_counts().sort_index(ascending=True)\n",
    "    return valid_df, df_count"
   ]
  },
  {
   "cell_type": "markdown",
   "metadata": {},
   "source": [
    "## 提取特征"
   ]
  },
  {
   "cell_type": "code",
   "execution_count": 7,
   "metadata": {
    "collapsed": false
   },
   "outputs": [],
   "source": [
    "def add_feature(valid_df, df_count):\n",
    "    ### 越过‘0’线的次数和越过‘0’线时左右3个点的乘积\n",
    "    cnt_list = []\n",
    "    left_list = []\n",
    "    right_list = []\n",
    "    for i in range(len(df_count.index)):\n",
    "        cnt = 0\n",
    "        left = []\n",
    "        right = []\n",
    "        viewed_df = valid_df[valid_df['手表编号'] == df_count.index[i]].reset_index()\n",
    "        for j in range(1, viewed_df.shape[0]):\n",
    "            product = viewed_df['新信号强度差值'][j-1] * viewed_df['新信号强度差值'][j]\n",
    "            if product < 0:\n",
    "                cnt += 1\n",
    "                left.append(viewed_df['新信号强度差值'][j-1])\n",
    "                right.append(viewed_df['新信号强度差值'][j])\n",
    "\n",
    "        cnt_list.append(cnt)\n",
    "        left_list.append(left)\n",
    "        right_list.append(right)\n",
    "\n",
    "    ### 前面和后面分别加和\n",
    "    add_front_list = []\n",
    "    add_back_list = []\n",
    "    front_is_positive = []\n",
    "    back_is_positive = []\n",
    "    for i in range(len(df_count.index)):\n",
    "        viewed_df = valid_df[valid_df['手表编号'] == df_count.index[i]].reset_index()\n",
    "        add_front = ceil(sum(viewed_df['新信号强度差值'].tolist()[0:20]))\n",
    "        add_back = ceil(sum(viewed_df['新信号强度差值'].tolist()[-20:]))\n",
    "        front_is_positive.append(1 if add_front >= 0 else 0)\n",
    "        back_is_positive.append(1 if add_back >= 0 else 0)\n",
    "        add_front_list.append(add_front)\n",
    "        add_back_list.append(add_back)\n",
    "\n",
    "    feature_df = pd.DataFrame()\n",
    "    feature_df['cnt_list'] = cnt_list\n",
    "    feature_df['cnt_list'] = cnt_list\n",
    "    feature_df['add_front_list'] = add_front_list\n",
    "    feature_df['add_back_list'] = add_back_list\n",
    "    feature_df['front_is_positive'] = front_is_positive\n",
    "    feature_df['back_is_positive'] = back_is_positive\n",
    "    return feature_df"
   ]
  },
  {
   "cell_type": "code",
   "execution_count": 8,
   "metadata": {
    "collapsed": false
   },
   "outputs": [],
   "source": [
    "feature_df = pd.DataFrame()\n",
    "valid_df, df_count = prepare_df(data)\n",
    "feature_df = feature_df.append(add_feature(valid_df, df_count))"
   ]
  },
  {
   "cell_type": "code",
   "execution_count": 9,
   "metadata": {
    "collapsed": false
   },
   "outputs": [],
   "source": [
    "if feature_df['front_is_positive'].tolist()[0] > 0.5:\n",
    "    if feature_df['back_is_positive'].tolist()[0] > 0.5:\n",
    "        flag = '校内'\n",
    "    else:\n",
    "        flag = '出校'\n",
    "else:\n",
    "    if feature_df['back_is_positive'].tolist()[0] > 0.5:\n",
    "        flag = '进校'\n",
    "    else:\n",
    "        flag = '校外'"
   ]
  },
  {
   "cell_type": "code",
   "execution_count": 10,
   "metadata": {
    "collapsed": false
   },
   "outputs": [],
   "source": [
    "ans = pd.DataFrame({'手表编号':data['手表编号'][0], '接收时间':data['接收时间'].values[-1], '状态':flag}, \n",
    "                   index=np.arange(1))"
   ]
  },
  {
   "cell_type": "code",
   "execution_count": 11,
   "metadata": {
    "collapsed": false
   },
   "outputs": [],
   "source": [
    "if not os.path.exists('result.csv'):\n",
    "    open('result.csv', 'a').close()\n",
    "    result = pd.read_csv('result.csv', names=['手表编号', '接收时间', '状态'], dtype={'手表编号':int})\n",
    "    result.to_csv('result.csv', index=False, encoding='utf-8')\n",
    "result = pd.read_csv('result.csv', dtype={'手表编号':int})\n",
    "result = pd.concat([result, ans], ignore_index=True).reset_index(drop=True)\n",
    "result.to_csv('result.csv', index=False, encoding='utf-8')"
   ]
  },
  {
   "cell_type": "code",
   "execution_count": null,
   "metadata": {
    "collapsed": true
   },
   "outputs": [],
   "source": []
  },
  {
   "cell_type": "code",
   "execution_count": null,
   "metadata": {
    "collapsed": true
   },
   "outputs": [],
   "source": []
  },
  {
   "cell_type": "code",
   "execution_count": null,
   "metadata": {
    "collapsed": true
   },
   "outputs": [],
   "source": []
  },
  {
   "cell_type": "code",
   "execution_count": null,
   "metadata": {
    "collapsed": true
   },
   "outputs": [],
   "source": []
  },
  {
   "cell_type": "code",
   "execution_count": null,
   "metadata": {
    "collapsed": true
   },
   "outputs": [],
   "source": []
  },
  {
   "cell_type": "code",
   "execution_count": null,
   "metadata": {
    "collapsed": true
   },
   "outputs": [],
   "source": []
  },
  {
   "cell_type": "code",
   "execution_count": null,
   "metadata": {
    "collapsed": true
   },
   "outputs": [],
   "source": []
  }
 ],
 "metadata": {
  "kernelspec": {
   "display_name": "Python 3",
   "language": "python",
   "name": "python3"
  },
  "language_info": {
   "codemirror_mode": {
    "name": "ipython",
    "version": 3
   },
   "file_extension": ".py",
   "mimetype": "text/x-python",
   "name": "python",
   "nbconvert_exporter": "python",
   "pygments_lexer": "ipython3",
   "version": "3.6.0"
  }
 },
 "nbformat": 4,
 "nbformat_minor": 2
}
